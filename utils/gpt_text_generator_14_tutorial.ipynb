{
 "cells": [
  {
   "cell_type": "markdown",
   "metadata": {},
   "source": [
    "# Neural Text Generation with a Custom GPT\n",
    "\n",
    "Author: [Ivan Bongiorni](https://github.com/IvanBongiorni) - 2023-02-05\n",
    "\n",
    "In this tutorial I will implement a full **GPT** (Generative Pretrained Transformer). This model will be trained, *character by character*, on the complete works of Shakespeare. It will therefore generate *charachter embedding* representations. This will solve the problem of OOV (out-of-vocabulary) tokens."
   ]
  },
  {
   "cell_type": "code",
   "execution_count": 1,
   "metadata": {},
   "outputs": [],
   "source": [
    "import os\n",
    "\n",
    "# disable annoying Nvidia warnings\n",
    "os.environ['TF_CPP_MIN_LOG_LEVEL'] = '3' \n",
    "\n",
    "import requests\n",
    "import time\n",
    "import re\n",
    "\n",
    "import numpy as np\n",
    "import tensorflow as tf\n",
    "from matplotlib import pyplot as plt\n",
    "from tqdm import tqdm"
   ]
  },
  {
   "cell_type": "code",
   "execution_count": 2,
   "metadata": {},
   "outputs": [],
   "source": [
    "INPUT_LENGTH = 128   # set length of text inputs for the model"
   ]
  },
  {
   "cell_type": "markdown",
   "metadata": {},
   "source": [
    "Download the text dataset containing all Shakespeare's works:"
   ]
  },
  {
   "cell_type": "code",
   "execution_count": 3,
   "metadata": {},
   "outputs": [],
   "source": [
    "url = 'https://storage.googleapis.com/download.tensorflow.org/data/shakespeare.txt'\n",
    "page = requests.get(url)\n",
    "text = page.text"
   ]
  },
  {
   "cell_type": "markdown",
   "metadata": {},
   "source": [
    "Let's take a look at our corpus:"
   ]
  },
  {
   "cell_type": "code",
   "execution_count": 4,
   "metadata": {
    "scrolled": true
   },
   "outputs": [
    {
     "name": "stdout",
     "output_type": "stream",
     "text": [
      "First Citizen:\n",
      "Before we proceed any further, hear me speak.\n",
      "\n",
      "All:\n",
      "Speak, speak.\n",
      "\n",
      "First Citizen:\n",
      "You are all resolved rather to die than to famish?\n"
     ]
    }
   ],
   "source": [
    "print(text[:147]) "
   ]
  },
  {
   "cell_type": "markdown",
   "metadata": {},
   "source": [
    "Let's vectorize text, mapping every character into an integer to be fed into the Network. This can be done with a character-to-index dictionary:"
   ]
  },
  {
   "cell_type": "code",
   "execution_count": 5,
   "metadata": {},
   "outputs": [],
   "source": [
    "# Store list of unique characters\n",
    "unique_chars = list(set(text))\n",
    "unique_chars.sort() \n",
    "\n",
    "# Map every letter in our alphabet to an int\n",
    "char2idx = { char[1]: char[0] for char in enumerate(unique_chars) } \n",
    "\n",
    "# Produce a reverse dictionary to go back from int to str later\n",
    "idx2char = { v: k for k, v in char2idx.items() } "
   ]
  },
  {
   "cell_type": "code",
   "execution_count": 6,
   "metadata": {},
   "outputs": [
    {
     "name": "stdout",
     "output_type": "stream",
     "text": [
      "65\n"
     ]
    }
   ],
   "source": [
    "# Visualize length of our alphabet\n",
    "print(len(char2idx)) "
   ]
  },
  {
   "cell_type": "code",
   "execution_count": 7,
   "metadata": {},
   "outputs": [
    {
     "name": "stdout",
     "output_type": "stream",
     "text": [
      "{'\\n': 0, ' ': 1, '!': 2, '$': 3, '&': 4, \"'\": 5, ',': 6, '-': 7, '.': 8, '3': 9, ':': 10, ';': 11, '?': 12, 'A': 13, 'B': 14, 'C': 15, 'D': 16, 'E': 17, 'F': 18, 'G': 19, 'H': 20, 'I': 21, 'J': 22, 'K': 23, 'L': 24, 'M': 25, 'N': 26, 'O': 27, 'P': 28, 'Q': 29, 'R': 30, 'S': 31, 'T': 32, 'U': 33, 'V': 34, 'W': 35, 'X': 36, 'Y': 37, 'Z': 38, 'a': 39, 'b': 40, 'c': 41, 'd': 42, 'e': 43, 'f': 44, 'g': 45, 'h': 46, 'i': 47, 'j': 48, 'k': 49, 'l': 50, 'm': 51, 'n': 52, 'o': 53, 'p': 54, 'q': 55, 'r': 56, 's': 57, 't': 58, 'u': 59, 'v': 60, 'w': 61, 'x': 62, 'y': 63, 'z': 64}\n"
     ]
    }
   ],
   "source": [
    "print(char2idx) "
   ]
  },
  {
   "cell_type": "markdown",
   "metadata": {},
   "source": [
    "At this point, we are ready to vectorize all the corpus:"
   ]
  },
  {
   "cell_type": "code",
   "execution_count": 8,
   "metadata": {},
   "outputs": [],
   "source": [
    "def numerical_encoding(text, char_dict):\n",
    "    \"\"\"\n",
    "    First breaks text into a list of chars, then converts each to \n",
    "    its numerical idx (np.array) \n",
    "    \"\"\"\n",
    "    chars_list = [ char for char in text ]\n",
    "    chars_list = [ char_dict[char] for char in chars_list ]\n",
    "    chars_list = np.array(chars_list)\n",
    "    return chars_list"
   ]
  },
  {
   "cell_type": "code",
   "execution_count": 9,
   "metadata": {},
   "outputs": [],
   "source": [
    "encoded_text = numerical_encoding(text, char2idx) "
   ]
  },
  {
   "cell_type": "markdown",
   "metadata": {},
   "source": [
    "The next step is to process the vectorized text, creating sequences of length `INPUT_LENGTH`.\n",
    "\n",
    "Given that a GPT is an autoregressive model developed for next-token prediction, you want to produce and input and a target sequence, where a target sequence corresponds to its input sequence but shifter forward of 1 step.\n",
    "\n",
    "As an example, from the series of tokens:\n",
    "\n",
    "```\n",
    "A, B, C, D, E, F, G, H, I\n",
    "```\n",
    "\n",
    "Assuming an input length of size 4, we'd want to obtain:\n",
    "\n",
    "```\n",
    " Input sequence:        Target sequence:\n",
    " A, B, C, D             B, C, D, E\n",
    " B, C, D, E             C, D, E, F\n",
    " C, D, E, F             D, E, F, G\n",
    " D, E, F, G             E, F, G, H\n",
    " E, F, G, H             F, G, H, I\n",
    "```"
   ]
  },
  {
   "cell_type": "code",
   "execution_count": 10,
   "metadata": {},
   "outputs": [],
   "source": [
    "def get_text_matrix(sequence, len_input):\n",
    "    \"\"\"\n",
    "    This generates a matrix containing all the sequences\n",
    "    of length INPUT_LENGTH to be fed into the Network\n",
    "    \"\"\"\n",
    "    # create empty matrix\n",
    "    X = np.empty((len(sequence)-len_input, len_input))\n",
    "    \n",
    "    # fill each row/time window from input sequence\n",
    "    for i in range(X.shape[0]):\n",
    "        X[i,:] = sequence[i : i+len_input]\n",
    "        \n",
    "    return X"
   ]
  },
  {
   "cell_type": "code",
   "execution_count": 11,
   "metadata": {},
   "outputs": [
    {
     "name": "stdout",
     "output_type": "stream",
     "text": [
      "(1115265, 129)\n"
     ]
    }
   ],
   "source": [
    "X = get_text_matrix(encoded_text, INPUT_LENGTH+1) \n",
    "print(X.shape) "
   ]
  },
  {
   "cell_type": "code",
   "execution_count": 12,
   "metadata": {},
   "outputs": [],
   "source": [
    "del encoded_text # free some memory"
   ]
  },
  {
   "cell_type": "code",
   "execution_count": null,
   "metadata": {},
   "outputs": [],
   "source": []
  },
  {
   "cell_type": "code",
   "execution_count": null,
   "metadata": {},
   "outputs": [],
   "source": []
  },
  {
   "cell_type": "markdown",
   "metadata": {},
   "source": [
    "# Model Implementation\n",
    "\n",
    "First, I will specify all the relevant hyperparameters and import the layer and model classes needed from `tensorflow` and `maximal`."
   ]
  },
  {
   "cell_type": "code",
   "execution_count": 13,
   "metadata": {},
   "outputs": [],
   "source": [
    "VOCAB_SIZE = len(char2idx) \n",
    "BATCH_SIZE = 64\n",
    "\n",
    "N_EPOCHS = 3\n",
    "LEARNING_RATE = 10e-5\n",
    "\n",
    "N_LAYERS = 4\n",
    "DEPTH = 256\n",
    "HEADS = 4\n",
    "FF_NODES = 256"
   ]
  },
  {
   "cell_type": "code",
   "execution_count": 14,
   "metadata": {},
   "outputs": [],
   "source": [
    "from tensorflow.keras.models import Sequential, Model\n",
    "from tensorflow.keras.layers import Input, Dense\n",
    "\n",
    "from exp import PositionalEmbedding, GPTLayer "
   ]
  },
  {
   "cell_type": "markdown",
   "metadata": {},
   "source": [
    "A Neural Network is a computational graph. I will start specifying its main elements.\n",
    "\n",
    "A GPT doesn't work with traditional `Embedding()` layers but requires a `PositionalEmbedding()` from `maximal`. The representation generated by it will then be fed into a sequence of `GPTLayer`'s.\n",
    "\n",
    "Finally, a simple `Dense()` layer will \"guess\", for each step of the sequence, what the next character is in the form of a probability distribution over the alphabet.\n",
    "\n",
    "NB: Even though probability distributions are normally learned and produced via softmax gates, choosing the objective function as `sparse_categorical_crossentropy()` with the argument `from_logits=True` will take care of that, applying softmax under the hood."
   ]
  },
  {
   "cell_type": "code",
   "execution_count": 15,
   "metadata": {},
   "outputs": [],
   "source": [
    "# Input layer\n",
    "input_batch = Input(shape=(INPUT_LENGTH,), dtype=tf.int32) \n",
    "\n",
    "# Positional Embedding\n",
    "embedding = PositionalEmbedding(INPUT_LENGTH, VOCAB_SIZE, DEPTH) \n",
    "\n",
    "# List of GPT Layers\n",
    "gpt_layers = [ GPTLayer(depth=DEPTH, heads=HEADS, ff_nodes=FF_NODES) for _ in range(N_LAYERS) ]\n",
    "\n",
    "# Output layer\n",
    "classification_layer = Dense(VOCAB_SIZE) "
   ]
  },
  {
   "cell_type": "markdown",
   "metadata": {},
   "source": [
    "Now we can build the computational graph by connecting all its elements together:"
   ]
  },
  {
   "cell_type": "code",
   "execution_count": 16,
   "metadata": {},
   "outputs": [],
   "source": [
    "x = embedding(input_batch) \n",
    "\n",
    "for layer in gpt_layers:\n",
    "    x = layer(x) \n",
    "\n",
    "classification = classification_layer(x) "
   ]
  },
  {
   "cell_type": "code",
   "execution_count": 17,
   "metadata": {},
   "outputs": [],
   "source": [
    "gpt = Model(\n",
    "    inputs = input_batch,\n",
    "    outputs = classification\n",
    ") "
   ]
  },
  {
   "cell_type": "code",
   "execution_count": 18,
   "metadata": {},
   "outputs": [
    {
     "name": "stdout",
     "output_type": "stream",
     "text": [
      "Model: \"model\"\n",
      "_________________________________________________________________\n",
      " Layer (type)                Output Shape              Param #   \n",
      "=================================================================\n",
      " input_1 (InputLayer)        [(None, 128)]             0         \n",
      "                                                                 \n",
      " positional_embedding (Posit  (None, 128, 256)         49408     \n",
      " ionalEmbedding)                                                 \n",
      "                                                                 \n",
      " gpt_layer (GPTLayer)        (None, 128, 256)          1184512   \n",
      "                                                                 \n",
      " gpt_layer_1 (GPTLayer)      (None, 128, 256)          1184512   \n",
      "                                                                 \n",
      " gpt_layer_2 (GPTLayer)      (None, 128, 256)          1184512   \n",
      "                                                                 \n",
      " gpt_layer_3 (GPTLayer)      (None, 128, 256)          1184512   \n",
      "                                                                 \n",
      " dense_60 (Dense)            (None, 128, 65)           16705     \n",
      "                                                                 \n",
      "=================================================================\n",
      "Total params: 4,804,161\n",
      "Trainable params: 4,804,161\n",
      "Non-trainable params: 0\n",
      "_________________________________________________________________\n"
     ]
    }
   ],
   "source": [
    "gpt.summary() "
   ]
  },
  {
   "cell_type": "markdown",
   "metadata": {},
   "source": [
    "# Training with Custom Loops"
   ]
  },
  {
   "cell_type": "markdown",
   "metadata": {},
   "source": [
    "In this tutorial, our GPT model is trained with custom training loop. The usual Keras pseudocode would be something such as: \n",
    "\n",
    "```\n",
    "gpt.compile(\"adam\", \"sparse_categorical_crossentropy\")\n",
    "history = gpt.fit(X, Y, epochs)\n",
    "```\n",
    "\n",
    "but I will build custom training loops instead, to understand and have full control of the process."
   ]
  },
  {
   "cell_type": "code",
   "execution_count": 19,
   "metadata": {},
   "outputs": [],
   "source": [
    "optimizer = tf.keras.optimizers.Adam(learning_rate=LEARNING_RATE) "
   ]
  },
  {
   "cell_type": "markdown",
   "metadata": {},
   "source": [
    "I will wrap the training step into a function decorated with `@tf.function`. This will compile all steps into a single TensorFlow op, making it approximately an order of magnitude faster than plain Python."
   ]
  },
  {
   "cell_type": "code",
   "execution_count": 20,
   "metadata": {},
   "outputs": [],
   "source": [
    "@tf.function\n",
    "def train_on_batch(x, y):\n",
    "    with tf.GradientTape() as tape:\n",
    "        \n",
    "        batch_loss = tf.reduce_sum(\n",
    "            tf.keras.losses.sparse_categorical_crossentropy(\n",
    "                y, gpt(x), \n",
    "                from_logits=True) \n",
    "        )\n",
    "        \n",
    "    gradients = tape.gradient(batch_loss, gpt.trainable_variables)\n",
    "    optimizer.apply_gradients(zip(gradients, gpt.trainable_variables))\n",
    "    return batch_loss"
   ]
  },
  {
   "cell_type": "markdown",
   "metadata": {},
   "source": [
    "All is ready for training at this point. The main steps of the process are now:\n",
    "\n",
    "0. At each epoch, reshuffle the dataset to add vary the composition of mini-batches.\n",
    "0. For each iteration, extract a slice of the dataset of size `BATCH_SIZE`, and extract input and target arrays (x chars: `[0:128]`, y chars: `[1:129]`.\n",
    "0. Run `train_step()` on input and target texts.\n",
    "0. Periodically print Loss and store its value in `loss_history`"
   ]
  },
  {
   "cell_type": "code",
   "execution_count": 21,
   "metadata": {
    "scrolled": true
   },
   "outputs": [
    {
     "name": "stdout",
     "output_type": "stream",
     "text": [
      "\t0\tLoss: 40897.2421875\n",
      "\t100\tLoss: 21843.64453125\n",
      "\t200\tLoss: 20481.32421875\n",
      "\t300\tLoss: 19570.765625\n",
      "\t400\tLoss: 18836.8671875\n",
      "\t500\tLoss: 17866.8671875\n",
      "\t600\tLoss: 17402.84765625\n",
      "\t700\tLoss: 16967.4375\n",
      "\t800\tLoss: 16161.228515625\n",
      "\t900\tLoss: 15842.638671875\n",
      "\t1000\tLoss: 15614.90625\n",
      "\t1100\tLoss: 15157.8916015625\n",
      "\t1200\tLoss: 14976.1240234375\n",
      "\t1300\tLoss: 14489.4404296875\n",
      "\t1400\tLoss: 14479.0234375\n",
      "\t1500\tLoss: 14091.2255859375\n",
      "\t1600\tLoss: 13759.0078125\n",
      "\t1700\tLoss: 13991.4697265625\n",
      "\t1800\tLoss: 13952.77734375\n",
      "\t1900\tLoss: 13135.15234375\n",
      "\t2000\tLoss: 13449.2158203125\n",
      "\t2100\tLoss: 13190.8115234375\n",
      "\t2200\tLoss: 12990.8818359375\n",
      "\t2300\tLoss: 13204.7333984375\n",
      "\t2400\tLoss: 12758.6962890625\n",
      "\t2500\tLoss: 12451.30078125\n",
      "\t2600\tLoss: 12579.2685546875\n",
      "\t2700\tLoss: 12112.064453125\n",
      "\t2800\tLoss: 12417.76171875\n",
      "\t2900\tLoss: 12481.78125\n",
      "\t3000\tLoss: 12232.6396484375\n",
      "\t3100\tLoss: 12005.94140625\n",
      "\t3200\tLoss: 11975.517578125\n",
      "\t3300\tLoss: 12250.564453125\n",
      "\t3400\tLoss: 12110.6484375\n",
      "\t3500\tLoss: 11863.5869140625\n",
      "\t3600\tLoss: 11771.619140625\n",
      "\t3700\tLoss: 12037.3974609375\n",
      "\t3800\tLoss: 11842.328125\n",
      "\t3900\tLoss: 11661.4970703125\n",
      "\t4000\tLoss: 11642.48046875\n",
      "\t4100\tLoss: 11728.46875\n",
      "\t4200\tLoss: 11969.646484375\n",
      "\t4300\tLoss: 11701.0009765625\n",
      "\t4400\tLoss: 12045.7099609375\n",
      "\t4500\tLoss: 11569.62890625\n",
      "\t4600\tLoss: 11683.9716796875\n",
      "\t4700\tLoss: 11348.53515625\n",
      "\t4800\tLoss: 11561.28125\n",
      "\t4900\tLoss: 11549.4814453125\n",
      "\t5000\tLoss: 11094.771484375\n",
      "\t5100\tLoss: 11411.0361328125\n",
      "\t5200\tLoss: 11509.326171875\n",
      "\t5300\tLoss: 11051.71875\n",
      "\t5400\tLoss: 11274.0751953125\n",
      "\t5500\tLoss: 11600.68359375\n",
      "\t5600\tLoss: 11464.2900390625\n",
      "\t5700\tLoss: 11232.0283203125\n",
      "\t5800\tLoss: 11327.435546875\n",
      "\t5900\tLoss: 10894.0224609375\n",
      "\t6000\tLoss: 11502.9609375\n",
      "\t6100\tLoss: 11162.55859375\n",
      "\t6200\tLoss: 10968.349609375\n",
      "\t6300\tLoss: 11006.6884765625\n",
      "\t6400\tLoss: 10910.544921875\n",
      "\t6500\tLoss: 10884.884765625\n",
      "\t6600\tLoss: 11065.29296875\n",
      "\t6700\tLoss: 10902.0078125\n",
      "\t6800\tLoss: 10749.015625\n",
      "\t6900\tLoss: 10421.2998046875\n",
      "\t7000\tLoss: 10871.96875\n",
      "\t7100\tLoss: 10827.474609375\n",
      "\t7200\tLoss: 10864.6591796875\n",
      "\t7300\tLoss: 10467.2880859375\n",
      "\t7400\tLoss: 10832.451171875\n",
      "\t7500\tLoss: 10517.16015625\n",
      "\t7600\tLoss: 10698.0751953125\n",
      "\t7700\tLoss: 10782.248046875\n",
      "\t7800\tLoss: 10308.8759765625\n",
      "\t7900\tLoss: 10708.826171875\n",
      "\t8000\tLoss: 10730.1572265625\n",
      "\t8100\tLoss: 10621.96484375\n",
      "\t8200\tLoss: 10500.689453125\n",
      "\t8300\tLoss: 10451.2216796875\n",
      "\t8400\tLoss: 10476.888671875\n",
      "\t8500\tLoss: 10261.720703125\n",
      "\t8600\tLoss: 10364.291015625\n",
      "\t8700\tLoss: 10781.6884765625\n",
      "\t8800\tLoss: 10641.943359375\n",
      "\t8900\tLoss: 10451.6875\n",
      "\t9000\tLoss: 10292.568359375\n",
      "\t9100\tLoss: 10783.62109375\n",
      "\t9200\tLoss: 10555.79296875\n",
      "\t9300\tLoss: 10207.7470703125\n",
      "\t9400\tLoss: 10628.810546875\n",
      "\t9500\tLoss: 10352.2939453125\n",
      "\t9600\tLoss: 10044.515625\n",
      "\t9700\tLoss: 10712.05078125\n",
      "\t9800\tLoss: 10327.0810546875\n",
      "\t9900\tLoss: 10627.748046875\n",
      "\t10000\tLoss: 10370.458984375\n",
      "\t10100\tLoss: 10350.8203125\n",
      "\t10200\tLoss: 10208.6357421875\n",
      "\t10300\tLoss: 10329.478515625\n",
      "\t10400\tLoss: 9990.87109375\n",
      "\t10500\tLoss: 10009.1484375\n",
      "\t10600\tLoss: 9963.640625\n",
      "\t10700\tLoss: 10554.689453125\n",
      "\t10800\tLoss: 10254.46875\n",
      "\t10900\tLoss: 10441.2802734375\n",
      "\t11000\tLoss: 9910.623046875\n",
      "\t11100\tLoss: 9924.041015625\n",
      "\t11200\tLoss: 10082.46484375\n",
      "\t11300\tLoss: 9993.14453125\n",
      "\t11400\tLoss: 10041.7109375\n",
      "\t11500\tLoss: 10016.552734375\n",
      "\t11600\tLoss: 9919.4599609375\n",
      "\t11700\tLoss: 10229.837890625\n",
      "\t11800\tLoss: 10321.93359375\n",
      "\t11900\tLoss: 10211.248046875\n",
      "\t12000\tLoss: 9642.23828125\n",
      "\t12100\tLoss: 9806.2451171875\n",
      "\t12200\tLoss: 9621.0771484375\n",
      "\t12300\tLoss: 10087.1318359375\n",
      "\t12400\tLoss: 9840.50390625\n",
      "\t12500\tLoss: 9825.37109375\n",
      "\t12600\tLoss: 9525.978515625\n",
      "\t12700\tLoss: 9889.6416015625\n",
      "\t12800\tLoss: 10035.2861328125\n",
      "\t12900\tLoss: 9600.70703125\n",
      "\t13000\tLoss: 9964.87890625\n",
      "\t13100\tLoss: 9820.548828125\n",
      "\t13200\tLoss: 9689.681640625\n",
      "\t13300\tLoss: 9874.533203125\n",
      "\t13400\tLoss: 9428.646484375\n",
      "\t13500\tLoss: 9638.7431640625\n",
      "\t13600\tLoss: 9873.421875\n",
      "\t13700\tLoss: 9669.6953125\n",
      "\t13800\tLoss: 9700.42578125\n",
      "\t13900\tLoss: 9778.3759765625\n",
      "\t14000\tLoss: 9741.8564453125\n",
      "\t14100\tLoss: 9695.890625\n",
      "\t14200\tLoss: 9978.01953125\n",
      "\t14300\tLoss: 9528.482421875\n",
      "\t14400\tLoss: 9681.224609375\n",
      "\t14500\tLoss: 9622.796875\n",
      "\t14600\tLoss: 9768.2568359375\n",
      "\t14700\tLoss: 9599.1337890625\n",
      "\t14800\tLoss: 9620.30078125\n",
      "\t14900\tLoss: 9482.759765625\n",
      "\t15000\tLoss: 9724.9140625\n",
      "\t15100\tLoss: 9644.15234375\n",
      "\t15200\tLoss: 9426.818359375\n",
      "\t15300\tLoss: 9271.7890625\n",
      "\t15400\tLoss: 9509.328125\n",
      "\t15500\tLoss: 9464.9521484375\n",
      "\t15600\tLoss: 9337.81640625\n",
      "\t15700\tLoss: 9319.29296875\n",
      "\t15800\tLoss: 9507.8349609375\n",
      "\t15900\tLoss: 9255.998046875\n",
      "\t16000\tLoss: 9424.1240234375\n",
      "\t16100\tLoss: 9334.23828125\n",
      "\t16200\tLoss: 9562.66796875\n",
      "\t16300\tLoss: 9354.203125\n",
      "\t16400\tLoss: 9301.1416015625\n",
      "\t16500\tLoss: 9443.83984375\n",
      "\t16600\tLoss: 9257.126953125\n",
      "\t16700\tLoss: 9087.6591796875\n",
      "\t16800\tLoss: 9439.1474609375\n",
      "\t16900\tLoss: 9168.4130859375\n",
      "\t17000\tLoss: 9332.5693359375\n",
      "\t17100\tLoss: 9392.896484375\n",
      "\t17200\tLoss: 9058.40625\n",
      "\t17300\tLoss: 8918.3056640625\n",
      "\t17400\tLoss: 9272.634765625\n",
      "1.  \t  Loss: 9206.3173828125  \t  Time: 1561.58ss\n",
      "\t0\tLoss: 9360.626953125\n",
      "\t100\tLoss: 9397.484375\n",
      "\t200\tLoss: 9182.9677734375\n",
      "\t300\tLoss: 9315.607421875\n",
      "\t400\tLoss: 9111.3544921875\n",
      "\t500\tLoss: 9320.8330078125\n",
      "\t600\tLoss: 9145.0888671875\n",
      "\t700\tLoss: 9076.6123046875\n",
      "\t800\tLoss: 8873.84375\n",
      "\t900\tLoss: 8927.8955078125\n",
      "\t1000\tLoss: 9015.95703125\n",
      "\t1100\tLoss: 9224.0693359375\n",
      "\t1200\tLoss: 9034.1796875\n",
      "\t1300\tLoss: 9231.025390625\n",
      "\t1400\tLoss: 9052.09765625\n",
      "\t1500\tLoss: 9042.447265625\n",
      "\t1600\tLoss: 9014.697265625\n",
      "\t1700\tLoss: 8766.8935546875\n",
      "\t1800\tLoss: 9116.978515625\n",
      "\t1900\tLoss: 9170.69921875\n",
      "\t2000\tLoss: 8784.7099609375\n",
      "\t2100\tLoss: 8924.4404296875\n",
      "\t2200\tLoss: 8902.6484375\n",
      "\t2300\tLoss: 8842.66796875\n",
      "\t2400\tLoss: 8877.9541015625\n",
      "\t2500\tLoss: 8879.74609375\n",
      "\t2600\tLoss: 8999.33203125\n",
      "\t2700\tLoss: 8912.5703125\n",
      "\t2800\tLoss: 8813.43359375\n",
      "\t2900\tLoss: 9070.1611328125\n",
      "\t3000\tLoss: 8974.30859375\n",
      "\t3100\tLoss: 8883.3525390625\n",
      "\t3200\tLoss: 8878.9375\n",
      "\t3300\tLoss: 8886.755859375\n",
      "\t3400\tLoss: 8917.7626953125\n",
      "\t3500\tLoss: 8521.10546875\n",
      "\t3600\tLoss: 8807.5576171875\n",
      "\t3700\tLoss: 8576.0009765625\n",
      "\t3800\tLoss: 8487.6748046875\n",
      "\t3900\tLoss: 8618.412109375\n",
      "\t4000\tLoss: 8752.6845703125\n",
      "\t4100\tLoss: 8802.9384765625\n",
      "\t4200\tLoss: 8961.83984375\n",
      "\t4300\tLoss: 8682.560546875\n",
      "\t4400\tLoss: 8787.533203125\n",
      "\t4500\tLoss: 8633.212890625\n",
      "\t4600\tLoss: 8512.0546875\n",
      "\t4700\tLoss: 8615.9609375\n",
      "\t4800\tLoss: 8706.4248046875\n",
      "\t4900\tLoss: 8643.427734375\n",
      "\t5000\tLoss: 8606.31640625\n",
      "\t5100\tLoss: 8646.525390625\n",
      "\t5200\tLoss: 8694.861328125\n",
      "\t5300\tLoss: 8469.669921875\n",
      "\t5400\tLoss: 8661.8154296875\n",
      "\t5500\tLoss: 8935.5302734375\n",
      "\t5600\tLoss: 8489.37890625\n",
      "\t5700\tLoss: 8792.861328125\n",
      "\t5800\tLoss: 8298.595703125\n",
      "\t5900\tLoss: 8638.4013671875\n",
      "\t6000\tLoss: 8473.478515625\n",
      "\t6100\tLoss: 8737.94921875\n",
      "\t6200\tLoss: 8685.4482421875\n",
      "\t6300\tLoss: 8426.677734375\n",
      "\t6400\tLoss: 8498.8154296875\n",
      "\t6500\tLoss: 8451.857421875\n",
      "\t6600\tLoss: 8430.4287109375\n",
      "\t6700\tLoss: 8271.265625\n",
      "\t6800\tLoss: 8737.646484375\n",
      "\t6900\tLoss: 8555.927734375\n",
      "\t7000\tLoss: 8299.5546875\n",
      "\t7100\tLoss: 8334.755859375\n",
      "\t7200\tLoss: 8258.8798828125\n",
      "\t7300\tLoss: 8443.3359375\n",
      "\t7400\tLoss: 8214.3515625\n",
      "\t7500\tLoss: 8398.234375\n",
      "\t7600\tLoss: 8329.166015625\n",
      "\t7700\tLoss: 8384.6025390625\n",
      "\t7800\tLoss: 8045.013671875\n",
      "\t7900\tLoss: 8208.6083984375\n",
      "\t8000\tLoss: 8490.587890625\n",
      "\t8100\tLoss: 8274.638671875\n",
      "\t8200\tLoss: 8246.1953125\n",
      "\t8300\tLoss: 8049.48681640625\n",
      "\t8400\tLoss: 7957.33984375\n",
      "\t8500\tLoss: 8341.255859375\n",
      "\t8600\tLoss: 8108.6005859375\n",
      "\t8700\tLoss: 8321.984375\n",
      "\t8800\tLoss: 8214.2763671875\n",
      "\t8900\tLoss: 8244.9306640625\n",
      "\t9000\tLoss: 8030.3896484375\n",
      "\t9100\tLoss: 7960.2216796875\n",
      "\t9200\tLoss: 8047.9736328125\n",
      "\t9300\tLoss: 8142.1513671875\n",
      "\t9400\tLoss: 8364.09765625\n",
      "\t9500\tLoss: 8142.30322265625\n",
      "\t9600\tLoss: 8021.0244140625\n",
      "\t9700\tLoss: 7841.5859375\n",
      "\t9800\tLoss: 8024.5673828125\n",
      "\t9900\tLoss: 8006.15087890625\n",
      "\t10000\tLoss: 8100.599609375\n",
      "\t10100\tLoss: 8019.58935546875\n",
      "\t10200\tLoss: 8069.2568359375\n",
      "\t10300\tLoss: 8157.88232421875\n",
      "\t10400\tLoss: 8120.19677734375\n",
      "\t10500\tLoss: 8109.0078125\n",
      "\t10600\tLoss: 7947.515625\n",
      "\t10700\tLoss: 8120.935546875\n",
      "\t10800\tLoss: 8176.6630859375\n",
      "\t10900\tLoss: 8199.5390625\n",
      "\t11000\tLoss: 8083.27978515625\n",
      "\t11100\tLoss: 8086.884765625\n",
      "\t11200\tLoss: 8012.173828125\n",
      "\t11300\tLoss: 7861.8232421875\n",
      "\t11400\tLoss: 7866.45361328125\n",
      "\t11500\tLoss: 7988.951171875\n",
      "\t11600\tLoss: 7996.599609375\n",
      "\t11700\tLoss: 7898.8798828125\n",
      "\t11800\tLoss: 7785.5380859375\n",
      "\t11900\tLoss: 7950.306640625\n",
      "\t12000\tLoss: 7684.3212890625\n",
      "\t12100\tLoss: 7998.8544921875\n",
      "\t12200\tLoss: 7973.78857421875\n"
     ]
    },
    {
     "name": "stdout",
     "output_type": "stream",
     "text": [
      "\t12300\tLoss: 7924.20849609375\n",
      "\t12400\tLoss: 7896.609375\n",
      "\t12500\tLoss: 7686.37109375\n",
      "\t12600\tLoss: 7887.79296875\n",
      "\t12700\tLoss: 7713.75634765625\n",
      "\t12800\tLoss: 7597.95751953125\n",
      "\t12900\tLoss: 7655.8955078125\n",
      "\t13000\tLoss: 7591.650390625\n",
      "\t13100\tLoss: 7591.33642578125\n",
      "\t13200\tLoss: 7577.5654296875\n",
      "\t13300\tLoss: 7626.443359375\n",
      "\t13400\tLoss: 8031.3837890625\n",
      "\t13500\tLoss: 7779.20703125\n",
      "\t13600\tLoss: 7757.2724609375\n",
      "\t13700\tLoss: 7749.1240234375\n",
      "\t13800\tLoss: 7721.4921875\n",
      "\t13900\tLoss: 7814.50048828125\n",
      "\t14000\tLoss: 7703.8994140625\n",
      "\t14100\tLoss: 7617.48828125\n",
      "\t14200\tLoss: 7709.685546875\n",
      "\t14300\tLoss: 7856.0771484375\n",
      "\t14400\tLoss: 7710.79833984375\n",
      "\t14500\tLoss: 7627.693359375\n",
      "\t14600\tLoss: 7478.93994140625\n",
      "\t14700\tLoss: 7420.509765625\n",
      "\t14800\tLoss: 7478.00244140625\n",
      "\t14900\tLoss: 7854.5146484375\n",
      "\t15000\tLoss: 7710.85888671875\n",
      "\t15100\tLoss: 7692.91796875\n",
      "\t15200\tLoss: 7644.16796875\n",
      "\t15300\tLoss: 7486.52734375\n",
      "\t15400\tLoss: 7518.283203125\n",
      "\t15500\tLoss: 7623.90966796875\n",
      "\t15600\tLoss: 7545.5546875\n",
      "\t15700\tLoss: 7617.244140625\n",
      "\t15800\tLoss: 7502.775390625\n",
      "\t15900\tLoss: 7704.08203125\n",
      "\t16000\tLoss: 7318.48291015625\n",
      "\t16100\tLoss: 7373.7744140625\n",
      "\t16200\tLoss: 7293.46044921875\n",
      "\t16300\tLoss: 7489.3017578125\n",
      "\t16400\tLoss: 7563.39990234375\n",
      "\t16500\tLoss: 7417.99609375\n",
      "\t16600\tLoss: 7429.46875\n",
      "\t16700\tLoss: 7457.06787109375\n",
      "\t16800\tLoss: 7465.78271484375\n",
      "\t16900\tLoss: 7441.55126953125\n",
      "\t17000\tLoss: 7168.84228515625\n",
      "\t17100\tLoss: 7262.77392578125\n",
      "\t17200\tLoss: 7383.0625\n",
      "\t17300\tLoss: 7662.849609375\n",
      "\t17400\tLoss: 7455.267578125\n",
      "2.  \t  Loss: 7244.0830078125  \t  Time: 1537.07ss\n",
      "\t0\tLoss: 7217.201171875\n",
      "\t100\tLoss: 7384.435546875\n",
      "\t200\tLoss: 7260.435546875\n",
      "\t300\tLoss: 7423.14453125\n",
      "\t400\tLoss: 7360.28466796875\n",
      "\t500\tLoss: 7379.50439453125\n",
      "\t600\tLoss: 7265.08154296875\n",
      "\t700\tLoss: 7383.93115234375\n",
      "\t800\tLoss: 7334.9599609375\n",
      "\t900\tLoss: 7183.8203125\n",
      "\t1000\tLoss: 7161.7890625\n",
      "\t1100\tLoss: 7055.6279296875\n",
      "\t1200\tLoss: 7282.02001953125\n",
      "\t1300\tLoss: 7175.3115234375\n",
      "\t1400\tLoss: 7256.5419921875\n",
      "\t1500\tLoss: 7204.11962890625\n",
      "\t1600\tLoss: 6965.2548828125\n",
      "\t1700\tLoss: 7175.94091796875\n",
      "\t1800\tLoss: 7153.662109375\n",
      "\t1900\tLoss: 7043.2109375\n",
      "\t2000\tLoss: 7006.3310546875\n",
      "\t2100\tLoss: 7108.90673828125\n",
      "\t2200\tLoss: 7101.6064453125\n",
      "\t2300\tLoss: 7198.28076171875\n",
      "\t2400\tLoss: 7252.88232421875\n",
      "\t2500\tLoss: 7128.001953125\n",
      "\t2600\tLoss: 6748.23779296875\n",
      "\t2700\tLoss: 7147.552734375\n",
      "\t2800\tLoss: 7134.87060546875\n",
      "\t2900\tLoss: 6879.22607421875\n",
      "\t3000\tLoss: 6857.29248046875\n",
      "\t3100\tLoss: 7193.11279296875\n",
      "\t3200\tLoss: 6883.82470703125\n",
      "\t3300\tLoss: 7042.1728515625\n",
      "\t3400\tLoss: 6961.39501953125\n",
      "\t3500\tLoss: 7080.72265625\n",
      "\t3600\tLoss: 7095.59130859375\n",
      "\t3700\tLoss: 7125.357421875\n",
      "\t3800\tLoss: 7123.08203125\n",
      "\t3900\tLoss: 7127.32568359375\n",
      "\t4000\tLoss: 7166.17529296875\n",
      "\t4100\tLoss: 6937.32421875\n",
      "\t4200\tLoss: 7061.845703125\n",
      "\t4300\tLoss: 7243.93212890625\n",
      "\t4400\tLoss: 6723.59814453125\n",
      "\t4500\tLoss: 7052.314453125\n",
      "\t4600\tLoss: 6856.68896484375\n",
      "\t4700\tLoss: 6880.0576171875\n",
      "\t4800\tLoss: 6946.93408203125\n",
      "\t4900\tLoss: 6985.96923828125\n",
      "\t5000\tLoss: 6963.6357421875\n",
      "\t5100\tLoss: 6906.40625\n",
      "\t5200\tLoss: 6780.72607421875\n",
      "\t5300\tLoss: 6475.62841796875\n",
      "\t5400\tLoss: 6843.78857421875\n",
      "\t5500\tLoss: 6805.47119140625\n",
      "\t5600\tLoss: 6818.9697265625\n",
      "\t5700\tLoss: 6591.0341796875\n",
      "\t5800\tLoss: 6778.81201171875\n",
      "\t5900\tLoss: 6754.669921875\n",
      "\t6000\tLoss: 6936.24560546875\n",
      "\t6100\tLoss: 6757.025390625\n",
      "\t6200\tLoss: 6535.2099609375\n",
      "\t6300\tLoss: 6735.7958984375\n",
      "\t6400\tLoss: 6827.19921875\n",
      "\t6500\tLoss: 6735.01513671875\n",
      "\t6600\tLoss: 6797.9736328125\n",
      "\t6700\tLoss: 6815.63720703125\n",
      "\t6800\tLoss: 6752.06787109375\n",
      "\t6900\tLoss: 6694.244140625\n",
      "\t7000\tLoss: 6567.7158203125\n",
      "\t7100\tLoss: 6873.44921875\n",
      "\t7200\tLoss: 6780.1806640625\n",
      "\t7300\tLoss: 6678.9892578125\n",
      "\t7400\tLoss: 6519.677734375\n",
      "\t7500\tLoss: 6684.7021484375\n",
      "\t7600\tLoss: 6899.03759765625\n",
      "\t7700\tLoss: 6747.7705078125\n",
      "\t7800\tLoss: 6700.4326171875\n",
      "\t7900\tLoss: 6546.48388671875\n",
      "\t8000\tLoss: 6785.19140625\n",
      "\t8100\tLoss: 6812.39990234375\n",
      "\t8200\tLoss: 6716.578125\n",
      "\t8300\tLoss: 6637.556640625\n",
      "\t8400\tLoss: 6595.03076171875\n",
      "\t8500\tLoss: 6601.7900390625\n",
      "\t8600\tLoss: 6530.10888671875\n",
      "\t8700\tLoss: 6717.1064453125\n",
      "\t8800\tLoss: 6865.970703125\n",
      "\t8900\tLoss: 6650.62353515625\n",
      "\t9000\tLoss: 6555.1103515625\n",
      "\t9100\tLoss: 6634.13232421875\n",
      "\t9200\tLoss: 6462.431640625\n",
      "\t9300\tLoss: 6647.3388671875\n",
      "\t9400\tLoss: 6585.57373046875\n",
      "\t9500\tLoss: 6506.83837890625\n",
      "\t9600\tLoss: 6628.4931640625\n",
      "\t9700\tLoss: 6514.91259765625\n",
      "\t9800\tLoss: 6657.59765625\n",
      "\t9900\tLoss: 6506.5009765625\n",
      "\t10000\tLoss: 6547.65234375\n",
      "\t10100\tLoss: 6454.7578125\n",
      "\t10200\tLoss: 6410.4140625\n",
      "\t10300\tLoss: 6627.814453125\n",
      "\t10400\tLoss: 6534.7314453125\n",
      "\t10500\tLoss: 6505.12158203125\n",
      "\t10600\tLoss: 6614.244140625\n",
      "\t10700\tLoss: 6458.5361328125\n",
      "\t10800\tLoss: 6462.6142578125\n",
      "\t10900\tLoss: 6611.29638671875\n",
      "\t11000\tLoss: 6367.8095703125\n",
      "\t11100\tLoss: 6425.119140625\n",
      "\t11200\tLoss: 6477.6669921875\n",
      "\t11300\tLoss: 6396.431640625\n",
      "\t11400\tLoss: 6315.41796875\n",
      "\t11500\tLoss: 6336.4443359375\n",
      "\t11600\tLoss: 6365.73583984375\n",
      "\t11700\tLoss: 6348.580078125\n",
      "\t11800\tLoss: 6248.7265625\n",
      "\t11900\tLoss: 6489.05859375\n",
      "\t12000\tLoss: 6292.81640625\n",
      "\t12100\tLoss: 6384.044921875\n",
      "\t12200\tLoss: 6493.4970703125\n",
      "\t12300\tLoss: 6106.20458984375\n",
      "\t12400\tLoss: 6223.1826171875\n",
      "\t12500\tLoss: 6492.1484375\n",
      "\t12600\tLoss: 6406.17919921875\n",
      "\t12700\tLoss: 6470.17822265625\n",
      "\t12800\tLoss: 6256.625\n",
      "\t12900\tLoss: 6170.31982421875\n",
      "\t13000\tLoss: 6103.162109375\n",
      "\t13100\tLoss: 6437.638671875\n",
      "\t13200\tLoss: 6276.287109375\n",
      "\t13300\tLoss: 6196.69775390625\n",
      "\t13400\tLoss: 6201.21435546875\n",
      "\t13500\tLoss: 6296.5498046875\n",
      "\t13600\tLoss: 6152.9384765625\n",
      "\t13700\tLoss: 6356.6904296875\n",
      "\t13800\tLoss: 6227.736328125\n",
      "\t13900\tLoss: 6110.9765625\n",
      "\t14000\tLoss: 6274.23291015625\n",
      "\t14100\tLoss: 6241.33984375\n",
      "\t14200\tLoss: 5996.2138671875\n",
      "\t14300\tLoss: 6355.40087890625\n",
      "\t14400\tLoss: 6302.224609375\n",
      "\t14500\tLoss: 6015.70703125\n",
      "\t14600\tLoss: 6389.51806640625\n",
      "\t14700\tLoss: 6330.04931640625\n",
      "\t14800\tLoss: 6296.33251953125\n",
      "\t14900\tLoss: 6136.40966796875\n",
      "\t15000\tLoss: 6145.10546875\n",
      "\t15100\tLoss: 5969.1865234375\n",
      "\t15200\tLoss: 5880.2998046875\n",
      "\t15300\tLoss: 6263.126953125\n",
      "\t15400\tLoss: 6199.07177734375\n",
      "\t15500\tLoss: 6014.30322265625\n",
      "\t15600\tLoss: 6062.79443359375\n",
      "\t15700\tLoss: 5976.8427734375\n",
      "\t15800\tLoss: 6143.66455078125\n",
      "\t15900\tLoss: 5899.53662109375\n",
      "\t16000\tLoss: 6229.72021484375\n",
      "\t16100\tLoss: 6156.5712890625\n",
      "\t16200\tLoss: 6082.7333984375\n",
      "\t16300\tLoss: 6060.29052734375\n",
      "\t16400\tLoss: 5916.34326171875\n",
      "\t16500\tLoss: 5952.43603515625\n",
      "\t16600\tLoss: 6137.80224609375\n",
      "\t16700\tLoss: 6240.5224609375\n",
      "\t16800\tLoss: 6011.07666015625\n",
      "\t16900\tLoss: 5975.2734375\n",
      "\t17000\tLoss: 5970.052734375\n",
      "\t17100\tLoss: 6152.5029296875\n",
      "\t17200\tLoss: 6002.38037109375\n",
      "\t17300\tLoss: 6079.029296875\n",
      "\t17400\tLoss: 6032.6064453125\n",
      "3.  \t  Loss: 5887.02587890625  \t  Time: 1522.99ss\n"
     ]
    }
   ],
   "source": [
    "loss_history = [] \n",
    "\n",
    "for epoch in range(N_EPOCHS):\n",
    "    start = time.time() \n",
    "    \n",
    "    # Reshuffle data at each epoch to randomize mini-batch composition\n",
    "    reshuffle = np.random.choice(X.shape[0], X.shape[0], replace=False) \n",
    "    X = X[reshuffle] \n",
    "    \n",
    "    for iteration in range(X.shape[0] // BATCH_SIZE):\n",
    "        \n",
    "        # take new minibatch (with 1 char shift from x to y)\n",
    "        take = iteration * BATCH_SIZE \n",
    "        x = X[ take:take+BATCH_SIZE , :-1 ]  # chars [0:128]\n",
    "        y = X[ take:take+BATCH_SIZE , 1: ]   # chars [1:129]\n",
    "        \n",
    "        # training step\n",
    "        current_loss = train_on_batch(x, y)\n",
    "        \n",
    "        # periodically store batch loss into history\n",
    "        if iteration%100 == 0:\n",
    "            loss_history.append(current_loss) \n",
    "            print(f\"\\t{iteration}\\tLoss: {current_loss}\") \n",
    "            \n",
    "    print(\"{}.  \\t  Loss: {}  \\t  Time: {}ss\".format(\n",
    "        epoch+1, current_loss.numpy(), round(time.time()-start, 2))) "
   ]
  },
  {
   "cell_type": "code",
   "execution_count": 22,
   "metadata": {},
   "outputs": [
    {
     "data": {
      "image/png": "[encoded data removed]",
      "text/plain": [
       "<Figure size 1500x700 with 1 Axes>"
      ]
     },
     "metadata": {},
     "output_type": "display_data"
    }
   ],
   "source": [
    "plt.figure(figsize=(15,7)) \n",
    "plt.plot(loss_history) \n",
    "plt.title('Loss History') \n",
    "plt.xlabel('Iterations')\n",
    "plt.ylabel('Loss (Sparse CCE)')\n",
    "plt.show() "
   ]
  },
  {
   "cell_type": "markdown",
   "metadata": {},
   "source": [
    "# Inference\n",
    "\n",
    "At this point, the model is ready to generate new text. A specific function is needed for that, with the following arguments:\n",
    "- A text `prompt` to start the generation.\n",
    "- `n` number of tokens to be generated.\n",
    "- A `temperature` parameter, governing the amount of noise in sampling the next token.\n",
    "- A parameter that restrict sampling only to the top-`k` most likely tokens."
   ]
  },
  {
   "cell_type": "code",
   "execution_count": 23,
   "metadata": {},
   "outputs": [],
   "source": [
    "def generate_text(prompt, n=1000, temperature=1.0, k=10):\n",
    "    \"\"\"\n",
    "    Inference time for the GPT.\n",
    "    \n",
    "    Args:\n",
    "        prompt (str): input text\n",
    "        n (int): number of tokens to be generated\n",
    "        temperature (float): noise in the output probability\n",
    "            (>1. = noisy sampling; <1. = conservative sampling.)\n",
    "        k (int): restricts to number of top-k tokens to be sampled from\n",
    "    \"\"\"\n",
    "    generated_text = []\n",
    "\n",
    "    for i in tqdm(range(n)):\n",
    "        #vectorize prompt and adjust np.array shape\n",
    "        vectorized_text = [char2idx[c] for c in prompt] \n",
    "        vectorized_text = np.array(vectorized_text).reshape((1, len(vectorized_text)))\n",
    "        \n",
    "        # next token prediction \n",
    "        pred = gpt.predict(vectorized_text, verbose=0) \n",
    "        pred = np.squeeze(pred[:,-1,:]) \n",
    "        \n",
    "        # temperature scaling\n",
    "        pred /= temperature\n",
    "        \n",
    "        # restrict sampling to top k tokens\n",
    "        probs, indices = tf.math.top_k(pred, k, sorted=True) \n",
    "        \n",
    "        # sample token id\n",
    "        probs = tf.nn.softmax(probs).numpy() \n",
    "        pred_id = np.random.choice(indices, p=probs) \n",
    "        \n",
    "        # update prompt\n",
    "        next_char = idx2char[pred_id] \n",
    "        prompt = prompt[1:] + next_char\n",
    "        generated_text.append(next_char)\n",
    "        \n",
    "    generated_text = ''.join(generated_text)\n",
    "    return generated_text "
   ]
  },
  {
   "cell_type": "markdown",
   "metadata": {},
   "source": [
    "I will now feed a piece of the famous Hamlet's monologue to the GPT and ask it to continue from it:"
   ]
  },
  {
   "cell_type": "code",
   "execution_count": 24,
   "metadata": {},
   "outputs": [],
   "source": [
    "prompt = \"\"\"To be, or not to be, that is the question:\n",
    "Whether 'tis nobler in the mind to suffer\n",
    "The slings and arrows of outrageous fortune\"\"\""
   ]
  },
  {
   "cell_type": "code",
   "execution_count": 25,
   "metadata": {
    "scrolled": true
   },
   "outputs": [
    {
     "name": "stderr",
     "output_type": "stream",
     "text": [
      "100%|██████████████████████████████████████████████████████████████████████████████████████| 500/500 [00:23<00:00, 20.98it/s]\n"
     ]
    }
   ],
   "source": [
    "generation = generate_text(prompt=prompt, n=500, temperature=0.2) "
   ]
  },
  {
   "cell_type": "code",
   "execution_count": 26,
   "metadata": {},
   "outputs": [
    {
     "name": "stdout",
     "output_type": "stream",
     "text": [
      " me,\n",
      "And there is all the sister of my love:\n",
      "I am your good falcon doth limit cut off one so much.\n",
      "\n",
      "ANGELO:\n",
      "\n",
      "ISABELLA:\n",
      "And so doth the end of men's enemies.\n",
      "\n",
      "CLARENCE:\n",
      "A joyful day day, and bunk with the crown,\n",
      "And then, with a light of usurning those you speak to the crown,\n",
      "And then, all the sun sets, which is the matter,\n",
      "That we may be another than the witness of her is\n",
      "An honourable and shrewd my lord.\n",
      "\n",
      "DUKE OF YORK:\n",
      "Art thou shalt be satisfied?\n",
      "\n",
      "RICHARD:\n",
      "I'll beat the consul! What think'st t\n"
     ]
    }
   ],
   "source": [
    "print(generation) "
   ]
  },
  {
   "cell_type": "code",
   "execution_count": 30,
   "metadata": {},
   "outputs": [
    {
     "name": "stderr",
     "output_type": "stream",
     "text": [
      "100%|████████████████████████████████████████████████████████████████████████████████████| 1000/1000 [00:45<00:00, 22.21it/s]\n"
     ]
    }
   ],
   "source": [
    "generation = generate_text(prompt=prompt, n=1000, temperature=0.2, k=10) "
   ]
  },
  {
   "cell_type": "code",
   "execution_count": 31,
   "metadata": {},
   "outputs": [
    {
     "name": "stdout",
     "output_type": "stream",
     "text": [
      " so fast.\n",
      "\n",
      "PETRUCHIO:\n",
      "Why, sir, in me in this castle:\n",
      "I have hold to me a mind,\n",
      "And say 'Alas, thou shalt to make thee no suglen.' Where is my page!\n",
      "And bay I had, to make thee thus farewly no further.\n",
      "\n",
      "PETRUCHIO:\n",
      "Why, sir, if nothing else, brine come to your pleasure hath.\n",
      "\n",
      "KATHARINA:\n",
      "I pray you, sir, they say, it werlik,\n",
      "cannot of the sun upon his court him and her head.\n",
      "\n",
      "PETRUCHIO:\n",
      "Why, she hath such pity time would.\n",
      "\n",
      "HORTENSIO:\n",
      "Sir, induced in his power!\n",
      "What says he? the borrow of his law garments and why he?\n",
      "\n",
      "BUCKINGHAM:\n",
      "No, so I to temptest, my lords,\n",
      "You scarce them and my gracious lord,\n",
      "Than they brided on the children of hell.\n",
      "\n",
      "GLOUCESTER:\n",
      "I did not kill the truth of my love:\n",
      "I am the survive intelligences of your daughter's son,\n",
      "And then to all the world at the faults\n",
      "At my master gentle, and their chains of straight:\n",
      "We have not without the wars of conscience and so made\n",
      "That's such appetite words draw the fart.\n",
      "\n",
      "LEONTES:\n",
      "What with him?\n",
      "\n",
      "PAULINA:\n",
      "These testimony many mouth\n",
      "\n"
     ]
    }
   ],
   "source": [
    "print(generation) "
   ]
  },
  {
   "cell_type": "code",
   "execution_count": 29,
   "metadata": {},
   "outputs": [],
   "source": [
    "gpt.save('gpt_shakespeare_14.h5') "
   ]
  },
  {
   "cell_type": "code",
   "execution_count": null,
   "metadata": {},
   "outputs": [],
   "source": []
  },
  {
   "cell_type": "code",
   "execution_count": null,
   "metadata": {},
   "outputs": [],
   "source": []
  },
  {
   "cell_type": "code",
   "execution_count": null,
   "metadata": {},
   "outputs": [],
   "source": []
  },
  {
   "cell_type": "code",
   "execution_count": null,
   "metadata": {},
   "outputs": [],
   "source": []
  },
  {
   "cell_type": "code",
   "execution_count": null,
   "metadata": {},
   "outputs": [],
   "source": []
  },
  {
   "cell_type": "code",
   "execution_count": null,
   "metadata": {},
   "outputs": [],
   "source": []
  },
  {
   "cell_type": "code",
   "execution_count": null,
   "metadata": {},
   "outputs": [],
   "source": []
  }
 ],
 "metadata": {
  "kernelspec": {
   "display_name": "Python 3 (ipykernel)",
   "language": "python",
   "name": "python3"
  },
  "language_info": {
   "codemirror_mode": {
    "name": "ipython",
    "version": 3
   },
   "file_extension": ".py",
   "mimetype": "text/x-python",
   "name": "python",
   "nbconvert_exporter": "python",
   "pygments_lexer": "ipython3",
   "version": "3.9.13"
  }
 },
 "nbformat": 4,
 "nbformat_minor": 4
}
